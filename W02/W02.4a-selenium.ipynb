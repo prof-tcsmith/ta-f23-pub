{
 "cells": [
  {
   "cell_type": "markdown",
   "metadata": {},
   "source": [
    "# Dealing with Dynamic Websites\n",
    "Some websites use JavaScript to load content dynamically. In such cases, a simple GET request may not retrieve all the content you see when browsing the site manually. Selenium is a popular library to handle dynamic content."
   ]
  },
  {
   "cell_type": "markdown",
   "metadata": {},
   "source": [
    "#### Troubleshooting File locations and path\n",
    "\n",
    "The following two cells can help you find what the default directory is for your notebook, and also display the current path environment variable.\n",
    "\n",
    "This isn't necessary to run in your notebooks - but can help if you are troubleshooting file not found issues"
   ]
  },
  {
   "cell_type": "code",
   "execution_count": null,
   "metadata": {},
   "outputs": [],
   "source": [
    "import os\n",
    "os.getcwd()"
   ]
  },
  {
   "cell_type": "code",
   "execution_count": null,
   "metadata": {},
   "outputs": [],
   "source": [
    "import sys\n",
    "sys.path"
   ]
  },
  {
   "cell_type": "markdown",
   "metadata": {},
   "source": [
    "### Using Selenium to Scrape from a Dynamic Site"
   ]
  },
  {
   "cell_type": "code",
   "execution_count": null,
   "metadata": {},
   "outputs": [],
   "source": [
    "from selenium import webdriver\n",
    "from selenium.webdriver.firefox.service import Service\n",
    "from webdriver_manager.firefox import GeckoDriverManager \n",
    "\n",
    "# for more information on WebDriver Manager https://pypi.org/project/webdriver-manager/\n",
    "# note1: to install webdriver_manager, on the command line use the name webdriver-manager (no underscore)\n",
    "# note2: You will need to have Firefox installed on your computer for this to work. (though, you're welcomed \n",
    "# to try it with Chrome... you will need to download the Chrome driver and change the code below to use it)\n",
    "\n",
    "# when loading the driver, one of the two will work. The first one will download the driver for you, the second\n",
    "# will use the driver you downloaded and placed in the same folder as your notebook or in your PATH variable.\n",
    "# NOTE: (only in linux), the first one will work once, but then you will need to comment it out and use the second one OR\n",
    "# do a ps -aux and find the running geckodriver process and kill it.\n",
    "\n",
    "# if you have selenium 3 installed, use one of these:\n",
    "#driver = webdriver.Firefox(executable_path=GeckoDriverManager().install()) # this will work on Windows and Mac, and should work on Linux when run the first time\n",
    "#driver = webdriver.Firefox(executable_path=<insert path to manual downloaded geckodriver>)\n",
    "driver = webdriver.Firefox() # use if geckodriver is in your PATH environmnet variable (which includes the same folder as your notebook)\n",
    "\n",
    "# if you hve selenium 4 installed, use one of these:\n",
    "#driver = webdriver.Firefox(service=Service(GeckoDriverManager().install())) # this will work on Windows and Mac, and should work on Linux when run the first time\n",
    "#driver = webdriver.Firefox() # use if geckodriver is in your PATH environmnet variable (which includes the same folder as your notebook)\n",
    "\n",
    "url = \"https://www.britannica.com/topic/Presidents-of-the-United-States-1846696\"\n",
    "driver.get(url)\n",
    "driver.implicitly_wait(10) # this is how long to wait for the page to load\n",
    "\n",
    "driver.page_source\n",
    "driver.close()"
   ]
  }
 ],
 "metadata": {
  "language_info": {
   "name": "python"
  },
  "orig_nbformat": 4
 },
 "nbformat": 4,
 "nbformat_minor": 2
}
